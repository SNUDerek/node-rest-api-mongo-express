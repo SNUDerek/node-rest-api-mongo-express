{
 "cells": [
  {
   "cell_type": "code",
   "execution_count": 5,
   "metadata": {},
   "outputs": [],
   "source": [
    "import json\n",
    "import requests"
   ]
  },
  {
   "cell_type": "code",
   "execution_count": 6,
   "metadata": {},
   "outputs": [],
   "source": [
    "PORT = 5000"
   ]
  },
  {
   "cell_type": "code",
   "execution_count": 7,
   "metadata": {},
   "outputs": [
    {
     "name": "stdout",
     "output_type": "stream",
     "text": [
      "{'hello': 'world'}\n"
     ]
    }
   ],
   "source": [
    "r = requests.get(f\"http://localhost:{PORT}/hello\")\n",
    "print(r.json())"
   ]
  },
  {
   "cell_type": "markdown",
   "metadata": {},
   "source": [
    "# add some samples"
   ]
  },
  {
   "cell_type": "code",
   "execution_count": 21,
   "metadata": {},
   "outputs": [
    {
     "name": "stdout",
     "output_type": "stream",
     "text": [
      "\"password\" length must be at least 6 characters long\n"
     ]
    }
   ],
   "source": [
    "r = requests.post(f\"http://localhost:{PORT}/api/user/register\", \n",
    "                  json={\n",
    "                      \"name\": \"Ahn Cheolsu\",\n",
    "                      \"email\": \"annyeong.world@hanmail.net\",\n",
    "                      \"password\": \"kim\"\n",
    "                  })\n",
    "try:\n",
    "    print(r.json())\n",
    "except:\n",
    "    print(r.text)"
   ]
  },
  {
   "cell_type": "code",
   "execution_count": 22,
   "metadata": {},
   "outputs": [
    {
     "name": "stdout",
     "output_type": "stream",
     "text": [
      "{'success': True}\n"
     ]
    }
   ],
   "source": [
    "r = requests.post(f\"http://localhost:{PORT}/api/user/register\", \n",
    "                  json={\n",
    "                      \"name\": \"Ahn Cheolsu\",\n",
    "                      \"email\": \"annyeong.world@hanmail.net\",\n",
    "                      \"password\": \"kimchimasisseo\"\n",
    "                  })\n",
    "try:\n",
    "    print(r.json())\n",
    "except:\n",
    "    print(r.text)"
   ]
  },
  {
   "cell_type": "code",
   "execution_count": 23,
   "metadata": {},
   "outputs": [
    {
     "name": "stdout",
     "output_type": "stream",
     "text": [
      "email already exists!\n"
     ]
    }
   ],
   "source": [
    "r = requests.post(f\"http://localhost:{PORT}/api/user/register\", \n",
    "                  json={\n",
    "                      \"name\": \"Kim Bora\",\n",
    "                      \"email\": \"annyeong.world@hanmail.net\",\n",
    "                      \"password\": \"supersecretpassword\"\n",
    "                  })\n",
    "try:\n",
    "    print(r.json())\n",
    "except:\n",
    "    print(r.text)"
   ]
  },
  {
   "cell_type": "code",
   "execution_count": 26,
   "metadata": {},
   "outputs": [
    {
     "name": "stdout",
     "output_type": "stream",
     "text": [
      "email or password is incorrect!\n"
     ]
    }
   ],
   "source": [
    "r = requests.post(f\"http://localhost:{PORT}/api/user/login\", \n",
    "                  json={\n",
    "                      \"email\": \"annyeong.world@hanmaill.net\",\n",
    "                      \"password\": \"kimchimasisseo\"\n",
    "                  })\n",
    "try:\n",
    "    print(r.json())\n",
    "except:\n",
    "    print(r.text)"
   ]
  }
 ],
 "metadata": {
  "kernelspec": {
   "display_name": "tf113",
   "language": "python",
   "name": "tf113"
  },
  "language_info": {
   "codemirror_mode": {
    "name": "ipython",
    "version": 3
   },
   "file_extension": ".py",
   "mimetype": "text/x-python",
   "name": "python",
   "nbconvert_exporter": "python",
   "pygments_lexer": "ipython3",
   "version": "3.6.9"
  }
 },
 "nbformat": 4,
 "nbformat_minor": 4
}
