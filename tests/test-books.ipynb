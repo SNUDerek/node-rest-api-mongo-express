{
 "cells": [
  {
   "cell_type": "code",
   "execution_count": 1,
   "metadata": {},
   "outputs": [],
   "source": [
    "import json\n",
    "import requests"
   ]
  },
  {
   "cell_type": "code",
   "execution_count": 2,
   "metadata": {},
   "outputs": [],
   "source": [
    "PORT = 5000"
   ]
  },
  {
   "cell_type": "code",
   "execution_count": 3,
   "metadata": {},
   "outputs": [
    {
     "name": "stdout",
     "output_type": "stream",
     "text": [
      "{'hello': 'world'}\n"
     ]
    }
   ],
   "source": [
    "r = requests.get(f\"http://localhost:{PORT}/hello\")\n",
    "print(r.json())"
   ]
  },
  {
   "cell_type": "markdown",
   "metadata": {},
   "source": [
    "# add some samples"
   ]
  },
  {
   "cell_type": "code",
   "execution_count": 4,
   "metadata": {},
   "outputs": [
    {
     "name": "stdout",
     "output_type": "stream",
     "text": [
      "{'title': \"Ender's Game\", 'author': 'Orson Scott Card', 'genre': 'science fiction', '_id': '61f8ec2d5cdbaefed75966c1', '__v': 0}\n"
     ]
    }
   ],
   "source": [
    "r = requests.post(f\"http://localhost:{PORT}/books\", \n",
    "                  json={\n",
    "                      \"title\": \"Ender's Game\",\n",
    "                      \"author\": \"Orson Scott Card\",\n",
    "                      \"genre\": \"science fiction\"\n",
    "                  })\n",
    "print(r.json())"
   ]
  },
  {
   "cell_type": "code",
   "execution_count": 5,
   "metadata": {},
   "outputs": [
    {
     "name": "stdout",
     "output_type": "stream",
     "text": [
      "{'title': 'Eye of the World', 'author': 'Robert Jordan', 'genre': 'fantasy', '_id': '61f8ec2d5cdbaefed75966c3', '__v': 0}\n"
     ]
    }
   ],
   "source": [
    "r = requests.post(f\"http://localhost:{PORT}/books\", \n",
    "                  json={\n",
    "                      \"title\": \"Eye of the World\",\n",
    "                      \"author\": \"Robert Jordan\",\n",
    "                      \"genre\": \"fantasy\"\n",
    "                  })\n",
    "print(r.json())"
   ]
  },
  {
   "cell_type": "code",
   "execution_count": 6,
   "metadata": {},
   "outputs": [
    {
     "name": "stdout",
     "output_type": "stream",
     "text": [
      "{'title': 'The Selfish Gene', 'author': 'Richard Dawkins', 'genre': 'nonfiction', '_id': '61f8ec2d5cdbaefed75966c5', '__v': 0}\n"
     ]
    }
   ],
   "source": [
    "r = requests.post(f\"http://localhost:{PORT}/books\", \n",
    "                  json={\n",
    "                      \"title\": \"The Selfish Gene\",\n",
    "                      \"author\": \"Richard Dawkins\",\n",
    "                      \"genre\": \"nonfiction\"\n",
    "                  })\n",
    "print(r.json())"
   ]
  },
  {
   "cell_type": "markdown",
   "metadata": {},
   "source": [
    "# retrieve all data"
   ]
  },
  {
   "cell_type": "code",
   "execution_count": 7,
   "metadata": {},
   "outputs": [
    {
     "name": "stdout",
     "output_type": "stream",
     "text": [
      "{'_id': '61f8ec2d5cdbaefed75966c1', 'title': \"Ender's Game\", 'author': 'Orson Scott Card', 'genre': 'science fiction', '__v': 0}\n",
      "{'_id': '61f8ec2d5cdbaefed75966c3', 'title': 'Eye of the World', 'author': 'Robert Jordan', 'genre': 'fantasy', '__v': 0}\n",
      "{'_id': '61f8ec2d5cdbaefed75966c5', 'title': 'The Selfish Gene', 'author': 'Richard Dawkins', 'genre': 'nonfiction', '__v': 0}\n"
     ]
    }
   ],
   "source": [
    "r = requests.get(f\"http://localhost:{PORT}/books\")\n",
    "del_id = None\n",
    "update_id = None\n",
    "for book in r.json():\n",
    "    print(book)\n",
    "    if book[\"title\"] == \"Ender's Game\":\n",
    "        del_id = book[\"_id\"]\n",
    "    elif book[\"title\"] == \"Eye of the World\":\n",
    "        update_id = book[\"_id\"]"
   ]
  },
  {
   "cell_type": "markdown",
   "metadata": {},
   "source": [
    "# delete a sample"
   ]
  },
  {
   "cell_type": "code",
   "execution_count": 8,
   "metadata": {},
   "outputs": [
    {
     "name": "stdout",
     "output_type": "stream",
     "text": [
      "delete book id 61f8ec2d5cdbaefed75966c1\n"
     ]
    }
   ],
   "source": [
    "print(f\"delete book id {del_id}\")"
   ]
  },
  {
   "cell_type": "code",
   "execution_count": 9,
   "metadata": {},
   "outputs": [
    {
     "name": "stdout",
     "output_type": "stream",
     "text": [
      "{'_id': '61f8ec2d5cdbaefed75966c1', 'title': \"Ender's Game\", 'author': 'Orson Scott Card', 'genre': 'science fiction', '__v': 0}\n"
     ]
    }
   ],
   "source": [
    "r = requests.get(f\"http://localhost:{PORT}/books/{del_id}\")\n",
    "print(r.json())"
   ]
  },
  {
   "cell_type": "code",
   "execution_count": 10,
   "metadata": {},
   "outputs": [
    {
     "name": "stdout",
     "output_type": "stream",
     "text": [
      "{'deletedCount': 1}\n"
     ]
    }
   ],
   "source": [
    "r = requests.delete(f\"http://localhost:{PORT}/books/{del_id}\")\n",
    "print(r.json())"
   ]
  },
  {
   "cell_type": "code",
   "execution_count": 11,
   "metadata": {},
   "outputs": [
    {
     "name": "stdout",
     "output_type": "stream",
     "text": [
      "None\n"
     ]
    }
   ],
   "source": [
    "r = requests.get(f\"http://localhost:{PORT}/books/{del_id}\")\n",
    "print(r.json())"
   ]
  },
  {
   "cell_type": "markdown",
   "metadata": {},
   "source": [
    "# update a sample"
   ]
  },
  {
   "cell_type": "code",
   "execution_count": 12,
   "metadata": {},
   "outputs": [
    {
     "name": "stdout",
     "output_type": "stream",
     "text": [
      "update book id 61f8ec2d5cdbaefed75966c3\n"
     ]
    }
   ],
   "source": [
    "print(f\"update book id {update_id}\")"
   ]
  },
  {
   "cell_type": "code",
   "execution_count": 13,
   "metadata": {},
   "outputs": [
    {
     "name": "stdout",
     "output_type": "stream",
     "text": [
      "{'_id': '61f8ec2d5cdbaefed75966c3', 'title': 'Eye of the World', 'author': 'Robert Jordan', 'genre': 'fantasy', '__v': 0}\n"
     ]
    }
   ],
   "source": [
    "r = requests.get(f\"http://localhost:{PORT}/books/{update_id}\")\n",
    "print(r.json())"
   ]
  },
  {
   "cell_type": "code",
   "execution_count": 14,
   "metadata": {},
   "outputs": [
    {
     "name": "stdout",
     "output_type": "stream",
     "text": [
      "{'acknowledged': True, 'modifiedCount': 1, 'upsertedId': None, 'upsertedCount': 0, 'matchedCount': 1}\n"
     ]
    }
   ],
   "source": [
    "r = requests.patch(f\"http://localhost:{PORT}/books/{update_id}\", json={\"title\": \"The Eye of the World\"})\n",
    "print(r.json())"
   ]
  },
  {
   "cell_type": "code",
   "execution_count": 15,
   "metadata": {},
   "outputs": [
    {
     "name": "stdout",
     "output_type": "stream",
     "text": [
      "{'_id': '61f8ec2d5cdbaefed75966c3', 'title': 'The Eye of the World', 'author': 'Robert Jordan', 'genre': 'fantasy', '__v': 0}\n"
     ]
    }
   ],
   "source": [
    "r = requests.get(f\"http://localhost:{PORT}/books/{update_id}\")\n",
    "print(r.json())"
   ]
  },
  {
   "cell_type": "code",
   "execution_count": null,
   "metadata": {},
   "outputs": [],
   "source": []
  }
 ],
 "metadata": {
  "kernelspec": {
   "display_name": "tf113",
   "language": "python",
   "name": "tf113"
  },
  "language_info": {
   "codemirror_mode": {
    "name": "ipython",
    "version": 3
   },
   "file_extension": ".py",
   "mimetype": "text/x-python",
   "name": "python",
   "nbconvert_exporter": "python",
   "pygments_lexer": "ipython3",
   "version": "3.6.9"
  }
 },
 "nbformat": 4,
 "nbformat_minor": 4
}
