{
 "cells": [
  {
   "cell_type": "code",
   "execution_count": 1,
   "metadata": {},
   "outputs": [],
   "source": [
    "import json\n",
    "import requests"
   ]
  },
  {
   "cell_type": "code",
   "execution_count": 2,
   "metadata": {},
   "outputs": [],
   "source": [
    "r = requests.get(\"http://localhost:6969/json\")"
   ]
  },
  {
   "cell_type": "code",
   "execution_count": 3,
   "metadata": {},
   "outputs": [
    {
     "data": {
      "text/plain": [
       "{'hello': 'world'}"
      ]
     },
     "execution_count": 3,
     "metadata": {},
     "output_type": "execute_result"
    }
   ],
   "source": [
    "r.json()"
   ]
  },
  {
   "cell_type": "code",
   "execution_count": 4,
   "metadata": {},
   "outputs": [],
   "source": [
    "r = requests.post(\"http://localhost:6969/posts\", \n",
    "                  json={\n",
    "                      \"title\": \"hello world\",\n",
    "                      \"description\": \"this is the body of the post\"\n",
    "                  })"
   ]
  },
  {
   "cell_type": "code",
   "execution_count": 5,
   "metadata": {},
   "outputs": [
    {
     "data": {
      "text/plain": [
       "{'title': 'hello world',\n",
       " 'description': 'this is the body of the post',\n",
       " '_id': '61f7b8481b31a31aaaa594f3',\n",
       " 'date': '2022-01-31T10:22:00.675Z',\n",
       " '__v': 0}"
      ]
     },
     "execution_count": 5,
     "metadata": {},
     "output_type": "execute_result"
    }
   ],
   "source": [
    "r.json()"
   ]
  },
  {
   "cell_type": "code",
   "execution_count": 6,
   "metadata": {},
   "outputs": [],
   "source": [
    "r = requests.post(\"http://localhost:6969/posts/promise\", \n",
    "                  json={\n",
    "                      \"title\": \"async hello world\",\n",
    "                      \"description\": \"this is the body of the post, posting to async!\"\n",
    "                  })"
   ]
  },
  {
   "cell_type": "code",
   "execution_count": 7,
   "metadata": {},
   "outputs": [
    {
     "data": {
      "text/plain": [
       "'{\"title\":\"async hello world\",\"description\":\"this is the body of the post, posting to async!\",\"_id\":\"61f7b8481b31a31aaaa594f5\",\"date\":\"2022-01-31T10:22:00.745Z\",\"__v\":0}'"
      ]
     },
     "execution_count": 7,
     "metadata": {},
     "output_type": "execute_result"
    }
   ],
   "source": [
    "r.text"
   ]
  },
  {
   "cell_type": "code",
   "execution_count": 8,
   "metadata": {},
   "outputs": [
    {
     "data": {
      "text/plain": [
       "{'title': 'async hello world',\n",
       " 'description': 'this is the body of the post, posting to async!',\n",
       " '_id': '61f7b8481b31a31aaaa594f5',\n",
       " 'date': '2022-01-31T10:22:00.745Z',\n",
       " '__v': 0}"
      ]
     },
     "execution_count": 8,
     "metadata": {},
     "output_type": "execute_result"
    }
   ],
   "source": [
    "r.json()"
   ]
  },
  {
   "cell_type": "code",
   "execution_count": 9,
   "metadata": {},
   "outputs": [],
   "source": [
    "r = requests.get(\"http://localhost:6969/posts\")"
   ]
  },
  {
   "cell_type": "code",
   "execution_count": 10,
   "metadata": {},
   "outputs": [
    {
     "data": {
      "text/plain": [
       "[{'_id': '61f7b8481b31a31aaaa594f3',\n",
       "  'title': 'hello world',\n",
       "  'description': 'this is the body of the post',\n",
       "  'date': '2022-01-31T10:22:00.675Z',\n",
       "  '__v': 0},\n",
       " {'_id': '61f7b8481b31a31aaaa594f5',\n",
       "  'title': 'async hello world',\n",
       "  'description': 'this is the body of the post, posting to async!',\n",
       "  'date': '2022-01-31T10:22:00.745Z',\n",
       "  '__v': 0}]"
      ]
     },
     "execution_count": 10,
     "metadata": {},
     "output_type": "execute_result"
    }
   ],
   "source": [
    "r.json()"
   ]
  },
  {
   "cell_type": "code",
   "execution_count": 11,
   "metadata": {},
   "outputs": [
    {
     "name": "stdout",
     "output_type": "stream",
     "text": [
      "61f7b8481b31a31aaaa594f3\n"
     ]
    }
   ],
   "source": [
    "del_id = r.json()[0][\"_id\"]\n",
    "print(del_id)"
   ]
  },
  {
   "cell_type": "code",
   "execution_count": 12,
   "metadata": {},
   "outputs": [
    {
     "name": "stdout",
     "output_type": "stream",
     "text": [
      "61f7b8481b31a31aaaa594f5\n"
     ]
    }
   ],
   "source": [
    "update_id = r.json()[-1][\"_id\"]\n",
    "print(update_id)"
   ]
  },
  {
   "cell_type": "code",
   "execution_count": 13,
   "metadata": {},
   "outputs": [],
   "source": [
    "r = requests.get(f\"http://localhost:6969/posts/{del_id}\")"
   ]
  },
  {
   "cell_type": "code",
   "execution_count": 14,
   "metadata": {},
   "outputs": [
    {
     "data": {
      "text/plain": [
       "{'_id': '61f7b8481b31a31aaaa594f3',\n",
       " 'title': 'hello world',\n",
       " 'description': 'this is the body of the post',\n",
       " 'date': '2022-01-31T10:22:00.675Z',\n",
       " '__v': 0}"
      ]
     },
     "execution_count": 14,
     "metadata": {},
     "output_type": "execute_result"
    }
   ],
   "source": [
    "r.json()"
   ]
  },
  {
   "cell_type": "code",
   "execution_count": 15,
   "metadata": {},
   "outputs": [],
   "source": [
    "r = requests.delete(f\"http://localhost:6969/posts/{del_id}\")"
   ]
  },
  {
   "cell_type": "code",
   "execution_count": 16,
   "metadata": {},
   "outputs": [
    {
     "data": {
      "text/plain": [
       "{'deletedCount': 1}"
      ]
     },
     "execution_count": 16,
     "metadata": {},
     "output_type": "execute_result"
    }
   ],
   "source": [
    "r.json()"
   ]
  },
  {
   "cell_type": "code",
   "execution_count": 17,
   "metadata": {},
   "outputs": [],
   "source": [
    "r = requests.get(f\"http://localhost:6969/posts/{update_id}\")"
   ]
  },
  {
   "cell_type": "code",
   "execution_count": 18,
   "metadata": {},
   "outputs": [
    {
     "data": {
      "text/plain": [
       "{'_id': '61f7b8481b31a31aaaa594f5',\n",
       " 'title': 'async hello world',\n",
       " 'description': 'this is the body of the post, posting to async!',\n",
       " 'date': '2022-01-31T10:22:00.745Z',\n",
       " '__v': 0}"
      ]
     },
     "execution_count": 18,
     "metadata": {},
     "output_type": "execute_result"
    }
   ],
   "source": [
    "r.json()"
   ]
  },
  {
   "cell_type": "code",
   "execution_count": 19,
   "metadata": {},
   "outputs": [],
   "source": [
    "r = requests.patch(f\"http://localhost:6969/posts/{update_id}\", json={\"title\": \"i patched the title again\", \"description\": \"yahoo, i used $set\"})"
   ]
  },
  {
   "cell_type": "code",
   "execution_count": 20,
   "metadata": {},
   "outputs": [
    {
     "data": {
      "text/plain": [
       "{'acknowledged': True,\n",
       " 'modifiedCount': 1,\n",
       " 'upsertedId': None,\n",
       " 'upsertedCount': 0,\n",
       " 'matchedCount': 1}"
      ]
     },
     "execution_count": 20,
     "metadata": {},
     "output_type": "execute_result"
    }
   ],
   "source": [
    "r.json()"
   ]
  },
  {
   "cell_type": "code",
   "execution_count": 21,
   "metadata": {},
   "outputs": [],
   "source": [
    "r = requests.get(f\"http://localhost:6969/posts/{update_id}\")"
   ]
  },
  {
   "cell_type": "code",
   "execution_count": 22,
   "metadata": {},
   "outputs": [
    {
     "data": {
      "text/plain": [
       "{'_id': '61f7b8481b31a31aaaa594f5',\n",
       " 'title': 'i patched the title again',\n",
       " 'description': 'yahoo, i used $set',\n",
       " 'date': '2022-01-31T10:22:00.745Z',\n",
       " '__v': 0}"
      ]
     },
     "execution_count": 22,
     "metadata": {},
     "output_type": "execute_result"
    }
   ],
   "source": [
    "r.json()"
   ]
  },
  {
   "cell_type": "code",
   "execution_count": 23,
   "metadata": {},
   "outputs": [],
   "source": [
    "r = requests.patch(f\"http://localhost:6969/posts/{update_id}\", json={\"description\": \"checkmate json-ists\"})"
   ]
  },
  {
   "cell_type": "code",
   "execution_count": 24,
   "metadata": {},
   "outputs": [
    {
     "data": {
      "text/plain": [
       "{'acknowledged': True,\n",
       " 'modifiedCount': 1,\n",
       " 'upsertedId': None,\n",
       " 'upsertedCount': 0,\n",
       " 'matchedCount': 1}"
      ]
     },
     "execution_count": 24,
     "metadata": {},
     "output_type": "execute_result"
    }
   ],
   "source": [
    "r.json()"
   ]
  },
  {
   "cell_type": "code",
   "execution_count": 25,
   "metadata": {},
   "outputs": [],
   "source": [
    "r = requests.get(f\"http://localhost:6969/posts/{update_id}\")"
   ]
  },
  {
   "cell_type": "code",
   "execution_count": 26,
   "metadata": {},
   "outputs": [
    {
     "data": {
      "text/plain": [
       "{'_id': '61f7b8481b31a31aaaa594f5',\n",
       " 'title': 'i patched the title again',\n",
       " 'description': 'checkmate json-ists',\n",
       " 'date': '2022-01-31T10:22:00.745Z',\n",
       " '__v': 0}"
      ]
     },
     "execution_count": 26,
     "metadata": {},
     "output_type": "execute_result"
    }
   ],
   "source": [
    "r.json()"
   ]
  },
  {
   "cell_type": "code",
   "execution_count": null,
   "metadata": {},
   "outputs": [],
   "source": []
  }
 ],
 "metadata": {
  "kernelspec": {
   "display_name": "tf113",
   "language": "python",
   "name": "tf113"
  },
  "language_info": {
   "codemirror_mode": {
    "name": "ipython",
    "version": 3
   },
   "file_extension": ".py",
   "mimetype": "text/x-python",
   "name": "python",
   "nbconvert_exporter": "python",
   "pygments_lexer": "ipython3",
   "version": "3.6.9"
  }
 },
 "nbformat": 4,
 "nbformat_minor": 4
}
